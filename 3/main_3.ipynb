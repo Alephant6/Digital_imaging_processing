{
 "cells": [
  {
   "cell_type": "markdown",
   "metadata": {},
   "source": [
    "# 第三次课堂作业——\n",
    "\n",
    "**学号：**201983160037\n",
    "\n",
    "**姓名：**强盛周\n",
    "\n",
    "**班级：**19信计嵌入1班\n",
    "\n",
    "**邮箱：**qshengz@foxmail.com\n",
    "\n",
    "**课程名称：**数字图像处理II\n",
    "\n",
    "**授课教师：**陈允杰教授"
   ]
  },
  {
   "cell_type": "markdown",
   "metadata": {},
   "source": [
    "# 1. 作业要求\n"
   ]
  },
  {
   "cell_type": "code",
   "execution_count": null,
   "metadata": {},
   "outputs": [],
   "source": []
  }
 ],
 "metadata": {
  "kernelspec": {
   "display_name": "Python 3 (ipykernel)",
   "language": "python",
   "name": "python3"
  },
  "language_info": {
   "codemirror_mode": {
    "name": "ipython",
    "version": 3
   },
   "file_extension": ".py",
   "mimetype": "text/x-python",
   "name": "python",
   "nbconvert_exporter": "python",
   "pygments_lexer": "ipython3",
   "version": "3.9.10+"
  }
 },
 "nbformat": 4,
 "nbformat_minor": 2
}
